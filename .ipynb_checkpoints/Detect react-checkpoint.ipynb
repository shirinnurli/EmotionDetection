{
 "cells": [
  {
   "cell_type": "code",
   "execution_count": 2,
   "id": "44b974e7-58f8-4a47-8c9a-5c34194afe5e",
   "metadata": {
    "tags": []
   },
   "outputs": [],
   "source": [
    "import numpy as np # linear algebra\n",
    "import pandas as pd # data processing, CSV file I/O (e.g. pd.read_csv)\n",
    "import os\n",
    "import matplotlib.pyplot as plt\n",
    "import seaborn as sns\n",
    "import tensorflow as tf\n",
    "import keras\n",
    "from keras.preprocessing import image\n",
    "from keras.models import Sequential\n",
    "from keras.layers import Conv2D, MaxPool2D, Flatten,Dense,Dropout,BatchNormalization\n",
    "from tensorflow.keras.preprocessing.image import ImageDataGenerator\n",
    "import cv2\n",
    "from tensorflow.keras.applications import VGG16, InceptionResNetV2\n",
    "from keras import regularizers\n",
    "from tensorflow.keras.optimizers import Adam,RMSprop,SGD,Adamax"
   ]
  },
  {
   "cell_type": "code",
   "execution_count": 6,
   "id": "14ce5d10-b75e-46c3-b3f5-98eb65e97d0e",
   "metadata": {
    "tags": []
   },
   "outputs": [],
   "source": [
    "train_dir = \"C:/Users/shiri/Desktop/Anul3_Sem2/SI/P3/EmotionDetection/train\" \n",
    "test_dir = \"C:/Users/shiri/Desktop/Anul3_Sem2/SI/P3/EmotionDetection/test\" "
   ]
  },
  {
   "cell_type": "markdown",
   "id": "d9a10c76-5872-4458-8866-6c2935de9c5e",
   "metadata": {
    "tags": []
   },
   "source": [
    "Here we are telling  where to find the training and testing data that your machine learning model will use."
   ]
  },
  {
   "cell_type": "code",
   "execution_count": 9,
   "id": "005f7aae-7804-4d8f-83fb-9ea9748caafa",
   "metadata": {
    "tags": []
   },
   "outputs": [],
   "source": [
    "import tensorflow as tf\n",
    "from keras.layers import Conv2D, MaxPool2D, Flatten, Dense, Dropout, BatchNormalization\n",
    "\n",
    "model = tf.keras.models.Sequential([\n",
    "    Conv2D(32, kernel_size=(3, 3), padding='same', activation='relu', input_shape=(48, 48, 1)),\n",
    "    Conv2D(64, kernel_size=(3, 3), padding='same', activation='relu'),\n",
    "    BatchNormalization(),\n",
    "    MaxPool2D(pool_size=(2, 2)),\n",
    "    Dropout(0.25),\n",
    "\n",
    "    Conv2D(128, kernel_size=(5, 5), padding='same', activation='relu'),\n",
    "    BatchNormalization(),\n",
    "    MaxPool2D(pool_size=(2, 2)),\n",
    "    Dropout(0.25),\n",
    "\n",
    "    Conv2D(512, kernel_size=(3, 3), padding='same', activation='relu'),\n",
    "    BatchNormalization(),\n",
    "    MaxPool2D(pool_size=(2, 2)),\n",
    "    Dropout(0.25),\n",
    "\n",
    "    Conv2D(512, kernel_size=(3, 3), padding='same', activation='relu'),\n",
    "    BatchNormalization(),\n",
    "    MaxPool2D(pool_size=(2, 2)),\n",
    "    Dropout(0.25),\n",
    "\n",
    "    Flatten(),\n",
    "    Dense(256, activation='relu'),\n",
    "    BatchNormalization(),\n",
    "    Dropout(0.25),\n",
    "\n",
    "    Dense(512, activation='relu'),\n",
    "    BatchNormalization(),\n",
    "    Dropout(0.25),\n",
    "\n",
    "    Dense(7, activation='softmax')\n",
    "])\n"
   ]
  },
  {
   "cell_type": "markdown",
   "id": "fa98cc84-9914-4ba6-812b-900b4ddb2dc5",
   "metadata": {},
   "source": [
    "Here, you're defining a convolutional neural network (CNN) model using the Sequential API in TensorFlow/Keras. The model consists of convolutional layers for extracting features from images, followed by pooling layers for downsampling, batch normalization layers for stabilizing training, dropout layers for regularization, and dense layers for classification. The final layer uses the softmax activation function to output probabilities for each class, making it suitable for multi-class classification tasks like emotion detection from images.\n",
    "\n",
    "In simple terms, we're creating a model that can understand images. It learns to recognize patterns in pictures, like shapes and colors, and decides which emotion the picture might represent."
   ]
  },
  {
   "cell_type": "code",
   "execution_count": null,
   "id": "4b1d0f74-bc26-4a0c-878c-50192de017cb",
   "metadata": {
    "tags": []
   },
   "outputs": [],
   "source": [
    "img_size=48"
   ]
  },
  {
   "cell_type": "markdown",
   "id": "c9dd80c7-c923-497e-bf80-ec15771750a9",
   "metadata": {
    "tags": []
   },
   "source": [
    "This indicates that each image will be resized or processed to have a width and height of 48 pixels each."
   ]
  },
  {
   "cell_type": "code",
   "execution_count": 11,
   "id": "06c0d533-19dc-4a88-83cf-a3c419f8151e",
   "metadata": {
    "tags": []
   },
   "outputs": [],
   "source": [
    "train_datagen = ImageDataGenerator(width_shift_range = 0.1,\n",
    "                                         height_shift_range = 0.1,\n",
    "                                         horizontal_flip = True,\n",
    "                                         rescale = 1./255,\n",
    "                                         validation_split = 0.2\n",
    "                                        )\n",
    "validation_datagen = ImageDataGenerator(rescale = 1./255,\n",
    "                                         validation_split = 0.2)"
   ]
  },
  {
   "cell_type": "markdown",
   "id": "264641c9-cc5c-409b-b8de-7c2d91e77273",
   "metadata": {},
   "source": [
    "These lines set up tools to prepare and process images for training and validation. For training, images are adjusted slightly in size and flipped horizontally to create more varied examples. All images are also scaled to have values between 0 and 1. Additionally, 20% of the training data is reserved for validation to check how well the model is learning without being directly trained on those examples.\n",
    "\n",
    "Below we are creating \"data generators\" to feed batches of images into the model during training and validation. For training, images are taken from the train_dir, while for validation, they're taken from test_dir. The generators resize the images, convert them to grayscale, and group them into batches of 64. They also organize the images by their classes for classification purposes."
   ]
  },
  {
   "cell_type": "code",
   "execution_count": 12,
   "id": "babbb346-755f-4ca4-be0c-8ef75642f781",
   "metadata": {
    "tags": []
   },
   "outputs": [
    {
     "name": "stdout",
     "output_type": "stream",
     "text": [
      "Found 22968 images belonging to 7 classes.\n",
      "Found 1432 images belonging to 7 classes.\n"
     ]
    }
   ],
   "source": [
    "train_generator = train_datagen.flow_from_directory(directory = train_dir,\n",
    "                                                    target_size = (img_size,img_size),\n",
    "                                                    batch_size = 64,\n",
    "                                                    color_mode = \"grayscale\",\n",
    "                                                    class_mode = \"categorical\",\n",
    "                                                    subset = \"training\"\n",
    "                                                   )\n",
    "validation_generator = validation_datagen.flow_from_directory( directory = test_dir,\n",
    "                                                              target_size = (img_size,img_size),\n",
    "                                                              batch_size = 64,\n",
    "                                                              color_mode = \"grayscale\",\n",
    "                                                              class_mode = \"categorical\",\n",
    "                                                              subset = \"validation\"\n",
    "                                                             )"
   ]
  },
  {
   "cell_type": "code",
   "execution_count": 14,
   "id": "5bb3947f-58a8-41e2-8ad3-c90d98efc431",
   "metadata": {
    "tags": []
   },
   "outputs": [],
   "source": [
    "from keras.optimizers import Adam\n",
    "\n",
    "# Define the learning rate\n",
    "learning_rate = 0.001\n",
    "\n",
    "# Create the Adam optimizer with the specified learning rate\n",
    "optimizer = Adam(learning_rate=learning_rate)\n",
    "\n",
    "# Compile the model with the optimizer\n",
    "model.compile(optimizer=optimizer, loss='categorical_crossentropy', metrics=['accuracy'])\n"
   ]
  },
  {
   "cell_type": "markdown",
   "id": "aa9e4869-f8ae-4d9e-b798-27e314264c4c",
   "metadata": {},
   "source": [
    "model.compile() function is like setting up a plan for how your neural network will learn. It decides how the network will adjust its internal parameters (like weights) using an optimizer, what goal it's trying to achieve (like minimizing errors) with a loss function, and what measurements to track (like accuracy) during the learning process."
   ]
  },
  {
   "cell_type": "code",
   "execution_count": 15,
   "id": "0b521808-b151-4336-a48b-08819160cccd",
   "metadata": {
    "tags": []
   },
   "outputs": [],
   "source": [
    "epochs = 45\n",
    "batch_size = 64"
   ]
  },
  {
   "cell_type": "markdown",
   "id": "a1f9dff4-26eb-4f7c-8c87-5acf9c904958",
   "metadata": {},
   "source": [
    "These parameters define how your model learns from the data during training. With 45 epochs, the model will see the entire dataset 45 times, refining its understanding with each pass. The batch size of 64 means that the model will process 64 images at a time, adjusting its weights based on their collective patterns."
   ]
  },
  {
   "cell_type": "code",
   "execution_count": 16,
   "id": "375902e6-7c66-4030-bbb6-3580b1d39330",
   "metadata": {
    "tags": []
   },
   "outputs": [
    {
     "name": "stdout",
     "output_type": "stream",
     "text": [
      "Epoch 1/45\n"
     ]
    },
    {
     "name": "stderr",
     "output_type": "stream",
     "text": [
      "C:\\Users\\shiri\\anaconda3\\Lib\\site-packages\\keras\\src\\trainers\\data_adapters\\py_dataset_adapter.py:121: UserWarning: Your `PyDataset` class should call `super().__init__(**kwargs)` in its constructor. `**kwargs` can include `workers`, `use_multiprocessing`, `max_queue_size`. Do not pass these arguments to `fit()`, as they will be ignored.\n",
      "  self._warn_if_super_not_called()\n"
     ]
    },
    {
     "name": "stdout",
     "output_type": "stream",
     "text": [
      "\u001b[1m359/359\u001b[0m \u001b[32m━━━━━━━━━━━━━━━━━━━━\u001b[0m\u001b[37m\u001b[0m \u001b[1m557s\u001b[0m 2s/step - accuracy: 0.2085 - loss: 2.2681 - val_accuracy: 0.1795 - val_loss: 2.3563\n",
      "Epoch 2/45\n",
      "\u001b[1m359/359\u001b[0m \u001b[32m━━━━━━━━━━━━━━━━━━━━\u001b[0m\u001b[37m\u001b[0m \u001b[1m366s\u001b[0m 1s/step - accuracy: 0.2945 - loss: 1.8140 - val_accuracy: 0.1557 - val_loss: 2.3931\n",
      "Epoch 3/45\n",
      "\u001b[1m359/359\u001b[0m \u001b[32m━━━━━━━━━━━━━━━━━━━━\u001b[0m\u001b[37m\u001b[0m \u001b[1m362s\u001b[0m 1s/step - accuracy: 0.4049 - loss: 1.5515 - val_accuracy: 0.4483 - val_loss: 1.4455\n",
      "Epoch 4/45\n",
      "\u001b[1m359/359\u001b[0m \u001b[32m━━━━━━━━━━━━━━━━━━━━\u001b[0m\u001b[37m\u001b[0m \u001b[1m367s\u001b[0m 1s/step - accuracy: 0.4765 - loss: 1.3671 - val_accuracy: 0.5112 - val_loss: 1.2943\n",
      "Epoch 5/45\n",
      "\u001b[1m359/359\u001b[0m \u001b[32m━━━━━━━━━━━━━━━━━━━━\u001b[0m\u001b[37m\u001b[0m \u001b[1m362s\u001b[0m 1s/step - accuracy: 0.5052 - loss: 1.2873 - val_accuracy: 0.5538 - val_loss: 1.1880\n",
      "Epoch 6/45\n",
      "\u001b[1m359/359\u001b[0m \u001b[32m━━━━━━━━━━━━━━━━━━━━\u001b[0m\u001b[37m\u001b[0m \u001b[1m352s\u001b[0m 978ms/step - accuracy: 0.5342 - loss: 1.2142 - val_accuracy: 0.4958 - val_loss: 1.3005\n",
      "Epoch 7/45\n",
      "\u001b[1m359/359\u001b[0m \u001b[32m━━━━━━━━━━━━━━━━━━━━\u001b[0m\u001b[37m\u001b[0m \u001b[1m370s\u001b[0m 1s/step - accuracy: 0.5496 - loss: 1.1879 - val_accuracy: 0.5726 - val_loss: 1.1345\n",
      "Epoch 8/45\n",
      "\u001b[1m359/359\u001b[0m \u001b[32m━━━━━━━━━━━━━━━━━━━━\u001b[0m\u001b[37m\u001b[0m \u001b[1m379s\u001b[0m 1s/step - accuracy: 0.5607 - loss: 1.1554 - val_accuracy: 0.5824 - val_loss: 1.1047\n",
      "Epoch 9/45\n",
      "\u001b[1m359/359\u001b[0m \u001b[32m━━━━━━━━━━━━━━━━━━━━\u001b[0m\u001b[37m\u001b[0m \u001b[1m376s\u001b[0m 1s/step - accuracy: 0.5751 - loss: 1.1181 - val_accuracy: 0.5978 - val_loss: 1.0565\n",
      "Epoch 10/45\n",
      "\u001b[1m359/359\u001b[0m \u001b[32m━━━━━━━━━━━━━━━━━━━━\u001b[0m\u001b[37m\u001b[0m \u001b[1m375s\u001b[0m 1s/step - accuracy: 0.5797 - loss: 1.1074 - val_accuracy: 0.5950 - val_loss: 1.0786\n",
      "Epoch 11/45\n",
      "\u001b[1m359/359\u001b[0m \u001b[32m━━━━━━━━━━━━━━━━━━━━\u001b[0m\u001b[37m\u001b[0m \u001b[1m1521s\u001b[0m 4s/step - accuracy: 0.5867 - loss: 1.0748 - val_accuracy: 0.6117 - val_loss: 1.0404\n",
      "Epoch 12/45\n",
      "\u001b[1m359/359\u001b[0m \u001b[32m━━━━━━━━━━━━━━━━━━━━\u001b[0m\u001b[37m\u001b[0m \u001b[1m435s\u001b[0m 1s/step - accuracy: 0.6026 - loss: 1.0523 - val_accuracy: 0.6124 - val_loss: 1.0057\n",
      "Epoch 13/45\n",
      "\u001b[1m359/359\u001b[0m \u001b[32m━━━━━━━━━━━━━━━━━━━━\u001b[0m\u001b[37m\u001b[0m \u001b[1m438s\u001b[0m 1s/step - accuracy: 0.6096 - loss: 1.0337 - val_accuracy: 0.6096 - val_loss: 1.0472\n",
      "Epoch 14/45\n",
      "\u001b[1m359/359\u001b[0m \u001b[32m━━━━━━━━━━━━━━━━━━━━\u001b[0m\u001b[37m\u001b[0m \u001b[1m623s\u001b[0m 2s/step - accuracy: 0.6085 - loss: 1.0347 - val_accuracy: 0.5985 - val_loss: 1.0549\n",
      "Epoch 15/45\n",
      "\u001b[1m359/359\u001b[0m \u001b[32m━━━━━━━━━━━━━━━━━━━━\u001b[0m\u001b[37m\u001b[0m \u001b[1m492s\u001b[0m 1s/step - accuracy: 0.6168 - loss: 1.0081 - val_accuracy: 0.5796 - val_loss: 1.1376\n",
      "Epoch 16/45\n",
      "\u001b[1m359/359\u001b[0m \u001b[32m━━━━━━━━━━━━━━━━━━━━\u001b[0m\u001b[37m\u001b[0m \u001b[1m386s\u001b[0m 1s/step - accuracy: 0.6247 - loss: 0.9977 - val_accuracy: 0.5964 - val_loss: 1.1034\n",
      "Epoch 17/45\n",
      "\u001b[1m359/359\u001b[0m \u001b[32m━━━━━━━━━━━━━━━━━━━━\u001b[0m\u001b[37m\u001b[0m \u001b[1m414s\u001b[0m 1s/step - accuracy: 0.6281 - loss: 0.9899 - val_accuracy: 0.6166 - val_loss: 1.0329\n",
      "Epoch 18/45\n",
      "\u001b[1m359/359\u001b[0m \u001b[32m━━━━━━━━━━━━━━━━━━━━\u001b[0m\u001b[37m\u001b[0m \u001b[1m408s\u001b[0m 1s/step - accuracy: 0.6361 - loss: 0.9711 - val_accuracy: 0.6313 - val_loss: 1.0182\n",
      "Epoch 19/45\n",
      "\u001b[1m359/359\u001b[0m \u001b[32m━━━━━━━━━━━━━━━━━━━━\u001b[0m\u001b[37m\u001b[0m \u001b[1m410s\u001b[0m 1s/step - accuracy: 0.6432 - loss: 0.9595 - val_accuracy: 0.6439 - val_loss: 0.9836\n",
      "Epoch 20/45\n",
      "\u001b[1m359/359\u001b[0m \u001b[32m━━━━━━━━━━━━━━━━━━━━\u001b[0m\u001b[37m\u001b[0m \u001b[1m357s\u001b[0m 993ms/step - accuracy: 0.6447 - loss: 0.9397 - val_accuracy: 0.6180 - val_loss: 1.0725\n",
      "Epoch 21/45\n",
      "\u001b[1m359/359\u001b[0m \u001b[32m━━━━━━━━━━━━━━━━━━━━\u001b[0m\u001b[37m\u001b[0m \u001b[1m356s\u001b[0m 990ms/step - accuracy: 0.6440 - loss: 0.9562 - val_accuracy: 0.6320 - val_loss: 1.0001\n",
      "Epoch 22/45\n",
      "\u001b[1m359/359\u001b[0m \u001b[32m━━━━━━━━━━━━━━━━━━━━\u001b[0m\u001b[37m\u001b[0m \u001b[1m360s\u001b[0m 1000ms/step - accuracy: 0.6524 - loss: 0.9268 - val_accuracy: 0.6404 - val_loss: 0.9650\n",
      "Epoch 23/45\n",
      "\u001b[1m359/359\u001b[0m \u001b[32m━━━━━━━━━━━━━━━━━━━━\u001b[0m\u001b[37m\u001b[0m \u001b[1m359s\u001b[0m 998ms/step - accuracy: 0.6595 - loss: 0.9047 - val_accuracy: 0.6173 - val_loss: 1.0171\n",
      "Epoch 24/45\n",
      "\u001b[1m359/359\u001b[0m \u001b[32m━━━━━━━━━━━━━━━━━━━━\u001b[0m\u001b[37m\u001b[0m \u001b[1m360s\u001b[0m 1s/step - accuracy: 0.6563 - loss: 0.9131 - val_accuracy: 0.6006 - val_loss: 1.0554\n",
      "Epoch 25/45\n",
      "\u001b[1m359/359\u001b[0m \u001b[32m━━━━━━━━━━━━━━━━━━━━\u001b[0m\u001b[37m\u001b[0m \u001b[1m359s\u001b[0m 997ms/step - accuracy: 0.6638 - loss: 0.9032 - val_accuracy: 0.6222 - val_loss: 1.0189\n",
      "Epoch 26/45\n",
      "\u001b[1m359/359\u001b[0m \u001b[32m━━━━━━━━━━━━━━━━━━━━\u001b[0m\u001b[37m\u001b[0m \u001b[1m363s\u001b[0m 1s/step - accuracy: 0.6599 - loss: 0.8899 - val_accuracy: 0.6383 - val_loss: 0.9680\n",
      "Epoch 27/45\n",
      "\u001b[1m359/359\u001b[0m \u001b[32m━━━━━━━━━━━━━━━━━━━━\u001b[0m\u001b[37m\u001b[0m \u001b[1m355s\u001b[0m 986ms/step - accuracy: 0.6733 - loss: 0.8648 - val_accuracy: 0.6299 - val_loss: 0.9854\n",
      "Epoch 28/45\n",
      "\u001b[1m359/359\u001b[0m \u001b[32m━━━━━━━━━━━━━━━━━━━━\u001b[0m\u001b[37m\u001b[0m \u001b[1m361s\u001b[0m 1s/step - accuracy: 0.6692 - loss: 0.8758 - val_accuracy: 0.6446 - val_loss: 0.9660\n",
      "Epoch 29/45\n",
      "\u001b[1m359/359\u001b[0m \u001b[32m━━━━━━━━━━━━━━━━━━━━\u001b[0m\u001b[37m\u001b[0m \u001b[1m360s\u001b[0m 1s/step - accuracy: 0.6736 - loss: 0.8686 - val_accuracy: 0.6390 - val_loss: 0.9606\n",
      "Epoch 30/45\n",
      "\u001b[1m359/359\u001b[0m \u001b[32m━━━━━━━━━━━━━━━━━━━━\u001b[0m\u001b[37m\u001b[0m \u001b[1m346s\u001b[0m 962ms/step - accuracy: 0.6876 - loss: 0.8389 - val_accuracy: 0.6383 - val_loss: 0.9865\n",
      "Epoch 31/45\n",
      "\u001b[1m359/359\u001b[0m \u001b[32m━━━━━━━━━━━━━━━━━━━━\u001b[0m\u001b[37m\u001b[0m \u001b[1m371s\u001b[0m 1s/step - accuracy: 0.6837 - loss: 0.8527 - val_accuracy: 0.6383 - val_loss: 0.9501\n",
      "Epoch 32/45\n",
      "\u001b[1m359/359\u001b[0m \u001b[32m━━━━━━━━━━━━━━━━━━━━\u001b[0m\u001b[37m\u001b[0m \u001b[1m372s\u001b[0m 1s/step - accuracy: 0.6819 - loss: 0.8424 - val_accuracy: 0.6564 - val_loss: 0.9603\n",
      "Epoch 33/45\n",
      "\u001b[1m359/359\u001b[0m \u001b[32m━━━━━━━━━━━━━━━━━━━━\u001b[0m\u001b[37m\u001b[0m \u001b[1m369s\u001b[0m 1s/step - accuracy: 0.6941 - loss: 0.8248 - val_accuracy: 0.6453 - val_loss: 0.9749\n",
      "Epoch 34/45\n",
      "\u001b[1m359/359\u001b[0m \u001b[32m━━━━━━━━━━━━━━━━━━━━\u001b[0m\u001b[37m\u001b[0m \u001b[1m375s\u001b[0m 1s/step - accuracy: 0.6905 - loss: 0.8145 - val_accuracy: 0.6418 - val_loss: 0.9890\n",
      "Epoch 35/45\n",
      "\u001b[1m359/359\u001b[0m \u001b[32m━━━━━━━━━━━━━━━━━━━━\u001b[0m\u001b[37m\u001b[0m \u001b[1m384s\u001b[0m 1s/step - accuracy: 0.6900 - loss: 0.8236 - val_accuracy: 0.6418 - val_loss: 1.0070\n",
      "Epoch 36/45\n",
      "\u001b[1m359/359\u001b[0m \u001b[32m━━━━━━━━━━━━━━━━━━━━\u001b[0m\u001b[37m\u001b[0m \u001b[1m368s\u001b[0m 1s/step - accuracy: 0.7007 - loss: 0.7901 - val_accuracy: 0.6313 - val_loss: 1.0329\n",
      "Epoch 37/45\n",
      "\u001b[1m359/359\u001b[0m \u001b[32m━━━━━━━━━━━━━━━━━━━━\u001b[0m\u001b[37m\u001b[0m \u001b[1m370s\u001b[0m 1s/step - accuracy: 0.7000 - loss: 0.8002 - val_accuracy: 0.6655 - val_loss: 0.9609\n",
      "Epoch 38/45\n",
      "\u001b[1m359/359\u001b[0m \u001b[32m━━━━━━━━━━━━━━━━━━━━\u001b[0m\u001b[37m\u001b[0m \u001b[1m380s\u001b[0m 1s/step - accuracy: 0.7131 - loss: 0.7713 - val_accuracy: 0.6522 - val_loss: 0.9851\n",
      "Epoch 39/45\n",
      "\u001b[1m359/359\u001b[0m \u001b[32m━━━━━━━━━━━━━━━━━━━━\u001b[0m\u001b[37m\u001b[0m \u001b[1m380s\u001b[0m 1s/step - accuracy: 0.7040 - loss: 0.7835 - val_accuracy: 0.6522 - val_loss: 1.0088\n",
      "Epoch 40/45\n",
      "\u001b[1m359/359\u001b[0m \u001b[32m━━━━━━━━━━━━━━━━━━━━\u001b[0m\u001b[37m\u001b[0m \u001b[1m373s\u001b[0m 1s/step - accuracy: 0.7090 - loss: 0.7703 - val_accuracy: 0.6550 - val_loss: 0.9755\n",
      "Epoch 41/45\n",
      "\u001b[1m359/359\u001b[0m \u001b[32m━━━━━━━━━━━━━━━━━━━━\u001b[0m\u001b[37m\u001b[0m \u001b[1m404s\u001b[0m 1s/step - accuracy: 0.7127 - loss: 0.7669 - val_accuracy: 0.6592 - val_loss: 0.9789\n",
      "Epoch 42/45\n",
      "\u001b[1m359/359\u001b[0m \u001b[32m━━━━━━━━━━━━━━━━━━━━\u001b[0m\u001b[37m\u001b[0m \u001b[1m432s\u001b[0m 1s/step - accuracy: 0.7230 - loss: 0.7481 - val_accuracy: 0.6522 - val_loss: 0.9843\n",
      "Epoch 43/45\n",
      "\u001b[1m359/359\u001b[0m \u001b[32m━━━━━━━━━━━━━━━━━━━━\u001b[0m\u001b[37m\u001b[0m \u001b[1m428s\u001b[0m 1s/step - accuracy: 0.7179 - loss: 0.7463 - val_accuracy: 0.6480 - val_loss: 0.9887\n",
      "Epoch 44/45\n",
      "\u001b[1m359/359\u001b[0m \u001b[32m━━━━━━━━━━━━━━━━━━━━\u001b[0m\u001b[37m\u001b[0m \u001b[1m420s\u001b[0m 1s/step - accuracy: 0.7218 - loss: 0.7476 - val_accuracy: 0.6480 - val_loss: 0.9932\n",
      "Epoch 45/45\n",
      "\u001b[1m359/359\u001b[0m \u001b[32m━━━━━━━━━━━━━━━━━━━━\u001b[0m\u001b[37m\u001b[0m \u001b[1m379s\u001b[0m 1s/step - accuracy: 0.7244 - loss: 0.7355 - val_accuracy: 0.6459 - val_loss: 1.0102\n"
     ]
    }
   ],
   "source": [
    "history = model.fit(x = train_generator,epochs = epochs,validation_data = validation_generator)"
   ]
  },
  {
   "cell_type": "markdown",
   "id": "e671ddde-c75b-41ef-80ed-4ae46acae915",
   "metadata": {},
   "source": [
    "Here we trained model using the training data generated by train_generator for a specified number of epochs (epochs). During training, the model's performance is evaluated on the validation data generated by validation_generator. The training process updates the model's parameters (weights and biases) to minimize the loss function, aiming to improve its performance on both the training and validation datasets. The training history, including metrics such as loss and accuracy, is stored in the history variable, allowing you to visualize and analyze the model's performance over time."
   ]
  },
  {
   "cell_type": "code",
   "execution_count": 18,
   "id": "b118699c-959e-4685-9b0f-f6347cbc97d4",
   "metadata": {
    "tags": []
   },
   "outputs": [
    {
     "data": {
      "image/png": "[encoded data removed]",
      "text/plain": [
       "<Figure size 1200x400 with 2 Axes>"
      ]
     },
     "metadata": {},
     "output_type": "display_data"
    }
   ],
   "source": [
    "fig , ax = plt.subplots(1,2)\n",
    "train_acc = history.history['accuracy']\n",
    "train_loss = history.history['loss']\n",
    "fig.set_size_inches(12,4)\n",
    "\n",
    "ax[0].plot(history.history['accuracy'])\n",
    "ax[0].plot(history.history['val_accuracy'])\n",
    "ax[0].set_title('Training Accuracy vs Validation Accuracy')\n",
    "ax[0].set_ylabel('Accuracy')\n",
    "ax[0].set_xlabel('Epoch')\n",
    "ax[0].legend(['Train', 'Validation'], loc='upper left')\n",
    "\n",
    "ax[1].plot(history.history['loss'])\n",
    "ax[1].plot(history.history['val_loss'])\n",
    "ax[1].set_title('Training Loss vs Validation Loss')\n",
    "ax[1].set_ylabel('Loss')\n",
    "ax[1].set_xlabel('Epoch')\n",
    "ax[1].legend(['Train', 'Validation'], loc='upper left')\n",
    "\n",
    "plt.show()\n"
   ]
  },
  {
   "cell_type": "markdown",
   "id": "16d62aa2-c8b3-461a-a2fd-25660021d433",
   "metadata": {},
   "source": [
    "Here we wanted to visualize the performance of our model during training. \n",
    "The first graph shows how the accuracy of predictions changes over each epoch for both the training and validation datasets. \n",
    "The second graph shows how the loss, or error, of your model changes over each epoch for both the training and validation datasets. It helps us to understand how well our model is learning and whether it's overfitting or underfitting."
   ]
  },
  {
   "cell_type": "code",
   "execution_count": 20,
   "id": "647dbe21-b86c-4cd1-bcc9-c5fb65ac0fd4",
   "metadata": {
    "tags": []
   },
   "outputs": [],
   "source": [
    "model.save_weights('model_weights.weights.h5')\n"
   ]
  },
  {
   "cell_type": "markdown",
   "id": "92b132b1-935f-4846-9c59-75d6645bbd21",
   "metadata": {},
   "source": [
    "Here we save the weights of our trained model to a file named 'model_weights.h5'. These weights represent the learned parameters of our model after training, including the values of the neural network's connections. Saving the weights allows us to later reload the model with the same architecture and apply these learned parameters to make predictions on new data without retraining the model."
   ]
  },
  {
   "cell_type": "code",
   "execution_count": 21,
   "id": "f2f99edf-d81b-4954-b023-9a677be77d53",
   "metadata": {
    "tags": []
   },
   "outputs": [],
   "source": [
    "from tensorflow.keras.preprocessing.image import load_img, img_to_array\n",
    "\n",
    "img_height = 48\n",
    "img_width = 48\n",
    "\n",
    "# Preprocess the input image\n",
    "def preprocess_image(image_path):\n",
    "    img = load_img(image_path, color_mode='grayscale', target_size=(img_height, img_width))\n",
    "    img_array = img_to_array(img)\n",
    "    img_array = img_array / 255.0  # Normalize pixel values\n",
    "    img_array = tf.expand_dims(img_array, 0)  # Add batch dimension\n",
    "    return img_array\n",
    "\n",
    "def predict_emotion_with_image(image_path):\n",
    "    # Load and display the image\n",
    "    img = load_img(image_path, color_mode='grayscale', target_size=(img_height, img_width))\n",
    "    plt.imshow(img, cmap='gray')\n",
    "    plt.axis('off')\n",
    "    plt.show()\n",
    "    \n",
    "    # Preprocess the image\n",
    "    preprocessed_img = preprocess_image(image_path)\n",
    "    \n",
    "    # Make predictions\n",
    "    predictions = model.predict(preprocessed_img)\n",
    "    predicted_class = tf.argmax(predictions[0]).numpy()\n",
    "    \n",
    "    return predicted_class\n",
    "\n",
    "def class_to_emotion(predicted_emotion):\n",
    "    res_dict = {0: 'angry', \n",
    "                1: 'disgusted',\n",
    "                2: 'fearful',\n",
    "                3: 'happy',\n",
    "                4: 'neutral',\n",
    "                5: 'sad',\n",
    "                6: 'surprised'\n",
    "               }\n",
    "    \n",
    "    return res_dict[predicted_emotion]"
   ]
  },
  {
   "cell_type": "markdown",
   "id": "31672c70-24a0-4886-adcc-018ca3bf7e38",
   "metadata": {},
   "source": [
    "This set of functions helps analyze emotions from images. First, the image is prepared for analysis by converting it to grayscale, resizing it, and normalizing it. Then, the trained model predicts the emotion conveyed by the image, and the result is converted into a human-readable emotion label, such as \"angry\" or \"happy.\" This process allows for quick and easy identification of emotions in images."
   ]
  },
  {
   "cell_type": "code",
   "execution_count": 27,
   "id": "506b80d0-73e3-4eaa-b1ab-d641eaa83f29",
   "metadata": {
    "tags": []
   },
   "outputs": [
    {
     "data": {
      "image/png": "[encoded data removed]",
      "text/plain": [
       "<Figure size 640x480 with 1 Axes>"
      ]
     },
     "metadata": {},
     "output_type": "display_data"
    },
    {
     "name": "stdout",
     "output_type": "stream",
     "text": [
      "\u001b[1m1/1\u001b[0m \u001b[32m━━━━━━━━━━━━━━━━━━━━\u001b[0m\u001b[37m\u001b[0m \u001b[1m0s\u001b[0m 47ms/step\n",
      "Predicted emotion class: neutral\n"
     ]
    }
   ],
   "source": [
    "image_path = \"C:/Users/shiri/Desktop/Anul3_Sem2/SI/P3/EmotionDetection/test/angry/im10.png\"\n",
    "predicted_emotion = predict_emotion_with_image(image_path)\n",
    "print(\"Predicted emotion class:\", class_to_emotion(predicted_emotion))"
   ]
  },
  {
   "cell_type": "code",
   "execution_count": 28,
   "id": "75b9f826-bb6a-414a-aa3a-3dd843484d1c",
   "metadata": {
    "tags": []
   },
   "outputs": [
    {
     "data": {
      "image/png": "[encoded data removed]",
      "text/plain": [
       "<Figure size 640x480 with 1 Axes>"
      ]
     },
     "metadata": {},
     "output_type": "display_data"
    },
    {
     "name": "stdout",
     "output_type": "stream",
     "text": [
      "\u001b[1m1/1\u001b[0m \u001b[32m━━━━━━━━━━━━━━━━━━━━\u001b[0m\u001b[37m\u001b[0m \u001b[1m0s\u001b[0m 57ms/step\n",
      "Predicted emotion class: surprised\n"
     ]
    }
   ],
   "source": [
    "image_path = \"C:/Users/shiri/Desktop/Anul3_Sem2/SI/P3/EmotionDetection/test/surprised/im10.png\"\n",
    "predicted_emotion = predict_emotion_with_image(image_path)\n",
    "print(\"Predicted emotion class:\", class_to_emotion(predicted_emotion))"
   ]
  },
  {
   "cell_type": "code",
   "execution_count": null,
   "id": "584b37fa-121b-492e-bb8f-7b1681fc5068",
   "metadata": {},
   "outputs": [],
   "source": []
  }
 ],
 "metadata": {
  "kernelspec": {
   "display_name": "Python 3 (ipykernel)",
   "language": "python",
   "name": "python3"
  },
  "language_info": {
   "codemirror_mode": {
    "name": "ipython",
    "version": 3
   },
   "file_extension": ".py",
   "mimetype": "text/x-python",
   "name": "python",
   "nbconvert_exporter": "python",
   "pygments_lexer": "ipython3",
   "version": "3.11.5"
  }
 },
 "nbformat": 4,
 "nbformat_minor": 5
}
